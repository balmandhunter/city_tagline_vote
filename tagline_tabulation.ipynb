{
 "cells": [
  {
   "cell_type": "code",
   "execution_count": 1,
   "metadata": {},
   "outputs": [],
   "source": [
    "import pyrankvote\n",
    "from pyrankvote import Candidate, Ballot\n",
    "import pandas as pd"
   ]
  },
  {
   "cell_type": "markdown",
   "metadata": {},
   "source": [
    "#### Import the data"
   ]
  },
  {
   "cell_type": "code",
   "execution_count": 2,
   "metadata": {},
   "outputs": [],
   "source": [
    "df = pd.read_csv('data/votes.csv', index_col=None)"
   ]
  },
  {
   "cell_type": "markdown",
   "metadata": {},
   "source": [
    "#### Create candidate objects"
   ]
  },
  {
   "cell_type": "code",
   "execution_count": 3,
   "metadata": {},
   "outputs": [],
   "source": [
    "happening = Candidate(\"Where it’s Happening on the Kennebec\")\n",
    "culture = Candidate(\"Culture on the Kennebec\")\n",
    "color = Candidate(\"Color and Culture on the Kennebec\")\n",
    "rainbow = Candidate(\"Where The River Meets the Rainbow\")\n",
    "rocks = Candidate(\"Hallowell Rocks on the River\")"
   ]
  },
  {
   "cell_type": "code",
   "execution_count": 4,
   "metadata": {},
   "outputs": [],
   "source": [
    "candidates = [happening, culture, color, rainbow, rocks]"
   ]
  },
  {
   "cell_type": "markdown",
   "metadata": {},
   "source": [
    "#### Inspect the df"
   ]
  },
  {
   "cell_type": "code",
   "execution_count": 5,
   "metadata": {},
   "outputs": [
    {
     "data": {
      "text/html": [
       "<div>\n",
       "<style scoped>\n",
       "    .dataframe tbody tr th:only-of-type {\n",
       "        vertical-align: middle;\n",
       "    }\n",
       "\n",
       "    .dataframe tbody tr th {\n",
       "        vertical-align: top;\n",
       "    }\n",
       "\n",
       "    .dataframe thead th {\n",
       "        text-align: right;\n",
       "    }\n",
       "</style>\n",
       "<table border=\"1\" class=\"dataframe\">\n",
       "  <thead>\n",
       "    <tr style=\"text-align: right;\">\n",
       "      <th></th>\n",
       "      <th>Where it’s Happening on the Kennebec</th>\n",
       "      <th>Culture on the Kennebec</th>\n",
       "      <th>Color and Culture on the Kennebec</th>\n",
       "      <th>Where The River Meets the Rainbow</th>\n",
       "      <th>Hallowell Rocks on the River</th>\n",
       "    </tr>\n",
       "  </thead>\n",
       "  <tbody>\n",
       "    <tr>\n",
       "      <th>0</th>\n",
       "      <td>Third Choice</td>\n",
       "      <td>First Choice</td>\n",
       "      <td>Second Choice</td>\n",
       "      <td>Fourth Choice</td>\n",
       "      <td>Fifth Choice</td>\n",
       "    </tr>\n",
       "    <tr>\n",
       "      <th>1</th>\n",
       "      <td>Second Choice</td>\n",
       "      <td>NaN</td>\n",
       "      <td>First Choice</td>\n",
       "      <td>NaN</td>\n",
       "      <td>NaN</td>\n",
       "    </tr>\n",
       "    <tr>\n",
       "      <th>2</th>\n",
       "      <td>NaN</td>\n",
       "      <td>Second Choice</td>\n",
       "      <td>First Choice</td>\n",
       "      <td>Third Choice</td>\n",
       "      <td>Fourth Choice</td>\n",
       "    </tr>\n",
       "    <tr>\n",
       "      <th>3</th>\n",
       "      <td>NaN</td>\n",
       "      <td>First Choice</td>\n",
       "      <td>NaN</td>\n",
       "      <td>Second Choice</td>\n",
       "      <td>NaN</td>\n",
       "    </tr>\n",
       "    <tr>\n",
       "      <th>4</th>\n",
       "      <td>NaN</td>\n",
       "      <td>First Choice</td>\n",
       "      <td>Second Choice</td>\n",
       "      <td>Third Choice</td>\n",
       "      <td>Fourth Choice</td>\n",
       "    </tr>\n",
       "  </tbody>\n",
       "</table>\n",
       "</div>"
      ],
      "text/plain": [
       "  Where it’s Happening on the Kennebec Culture on the Kennebec  \\\n",
       "0                         Third Choice            First Choice   \n",
       "1                        Second Choice                     NaN   \n",
       "2                                  NaN           Second Choice   \n",
       "3                                  NaN            First Choice   \n",
       "4                                  NaN            First Choice   \n",
       "\n",
       "  Color and Culture on the Kennebec Where The River Meets the Rainbow  \\\n",
       "0                     Second Choice                     Fourth Choice   \n",
       "1                      First Choice                               NaN   \n",
       "2                      First Choice                      Third Choice   \n",
       "3                               NaN                     Second Choice   \n",
       "4                     Second Choice                      Third Choice   \n",
       "\n",
       "  Hallowell Rocks on the River  \n",
       "0                 Fifth Choice  \n",
       "1                          NaN  \n",
       "2                Fourth Choice  \n",
       "3                          NaN  \n",
       "4                Fourth Choice  "
      ]
     },
     "execution_count": 5,
     "metadata": {},
     "output_type": "execute_result"
    }
   ],
   "source": [
    "df.head()"
   ]
  },
  {
   "cell_type": "markdown",
   "metadata": {},
   "source": [
    "#### Rename the columns of the df"
   ]
  },
  {
   "cell_type": "code",
   "execution_count": 6,
   "metadata": {},
   "outputs": [],
   "source": [
    "df.rename(columns={\"Where it’s Happening on the Kennebec\": \"happening\",\n",
    "           \"Culture on the Kennebec\": \"culture\",\n",
    "           \"Color and Culture on the Kennebec\": \"color\", \n",
    "            \"Where The River Meets the Rainbow\": \"rainbow\",\n",
    "           \"Hallowell Rocks on the River\": \"rocks\"},\n",
    "          inplace=True)"
   ]
  },
  {
   "cell_type": "markdown",
   "metadata": {},
   "source": [
    "#### Format the data to work with pyrankvote"
   ]
  },
  {
   "cell_type": "code",
   "execution_count": 7,
   "metadata": {},
   "outputs": [],
   "source": [
    "def get_ballots(df):\n",
    "    ballots = []\n",
    "    for idx, row in df.iterrows():\n",
    "        ranked_list = []\n",
    "        ranked_list.append(df.columns[(df == 'First Choice').iloc[idx]][0])\n",
    "        second_choice = df.columns[(df == 'Second Choice').iloc[idx]]\n",
    "        if len(second_choice) > 0:\n",
    "            ranked_list.append(second_choice[0])\n",
    "        third_choice = df.columns[(df == 'Third Choice').iloc[idx]]\n",
    "        if len(third_choice) > 0:\n",
    "            ranked_list.append(third_choice[0])\n",
    "        fourth_choice = df.columns[(df == 'Fourth Choice').iloc[idx]]\n",
    "        if len(fourth_choice) > 0:\n",
    "            ranked_list.append(fourth_choice[0])\n",
    "        fifth_choice = df.columns[(df == 'Fifth Choice').iloc[idx]]\n",
    "        if len(fifth_choice) > 0:\n",
    "            ranked_list.append(fifth_choice[0])\n",
    "        candidates_ranked = []\n",
    "        for tagline in ranked_list:\n",
    "            if tagline == 'happening':\n",
    "                candidates_ranked.append(happening)\n",
    "            elif tagline == 'culture':\n",
    "                candidates_ranked.append(culture)\n",
    "            elif tagline == 'color':\n",
    "                candidates_ranked.append(color)\n",
    "            elif tagline == 'rainbow':\n",
    "                candidates_ranked.append(rainbow)\n",
    "            elif tagline == \"rocks\":\n",
    "                candidates_ranked.append(rocks)\n",
    "\n",
    "        ballots.append(Ballot(ranked_candidates = candidates_ranked))\n",
    "    return ballots"
   ]
  },
  {
   "cell_type": "code",
   "execution_count": 8,
   "metadata": {},
   "outputs": [],
   "source": [
    "ballots = get_ballots(df)\n",
    "election_result = pyrankvote.instant_runoff_voting(candidates, ballots)"
   ]
  },
  {
   "cell_type": "markdown",
   "metadata": {},
   "source": [
    "#### Show Election Results"
   ]
  },
  {
   "cell_type": "code",
   "execution_count": 9,
   "metadata": {},
   "outputs": [
    {
     "name": "stdout",
     "output_type": "stream",
     "text": [
      "ROUND 1\n",
      "Candidate                               Votes  Status\n",
      "------------------------------------  -------  --------\n",
      "Where it’s Happening on the Kennebec       16  Hopeful\n",
      "Culture on the Kennebec                    14  Hopeful\n",
      "Where The River Meets the Rainbow          14  Hopeful\n",
      "Color and Culture on the Kennebec          12  Hopeful\n",
      "Hallowell Rocks on the River                9  Rejected\n",
      "\n",
      "ROUND 2\n",
      "Candidate                               Votes  Status\n",
      "------------------------------------  -------  --------\n",
      "Where it’s Happening on the Kennebec       20  Hopeful\n",
      "Where The River Meets the Rainbow          17  Hopeful\n",
      "Culture on the Kennebec                    15  Hopeful\n",
      "Color and Culture on the Kennebec          13  Rejected\n",
      "Hallowell Rocks on the River                0  Rejected\n",
      "\n",
      "ROUND 3\n",
      "Candidate                               Votes  Status\n",
      "------------------------------------  -------  --------\n",
      "Where it’s Happening on the Kennebec       23  Hopeful\n",
      "Culture on the Kennebec                    21  Hopeful\n",
      "Where The River Meets the Rainbow          21  Rejected\n",
      "Color and Culture on the Kennebec           0  Rejected\n",
      "Hallowell Rocks on the River                0  Rejected\n",
      "\n",
      "FINAL RESULT\n",
      "Candidate                               Votes  Status\n",
      "------------------------------------  -------  --------\n",
      "Culture on the Kennebec                    34  Elected\n",
      "Where it’s Happening on the Kennebec       28  Rejected\n",
      "Where The River Meets the Rainbow           0  Rejected\n",
      "Color and Culture on the Kennebec           0  Rejected\n",
      "Hallowell Rocks on the River                0  Rejected\n",
      "Blank votes                                 3  Rejected\n",
      "\n"
     ]
    }
   ],
   "source": [
    "print(election_result)"
   ]
  },
  {
   "cell_type": "markdown",
   "metadata": {},
   "source": [
    "Instant runoff voting (IRV) is a single candidate election method that elects the candidate that can obtain majority support (more than 50%).\n",
    "\n",
    "Voters rank candidates and are granted one vote. The candidate with fewest votes is removed and this candidate's votes are transferred according to the voters 2nd preference (or 3rd etc)."
   ]
  }
 ],
 "metadata": {
  "kernelspec": {
   "display_name": "Python 3",
   "language": "python",
   "name": "python3"
  },
  "language_info": {
   "codemirror_mode": {
    "name": "ipython",
    "version": 3
   },
   "file_extension": ".py",
   "mimetype": "text/x-python",
   "name": "python",
   "nbconvert_exporter": "python",
   "pygments_lexer": "ipython3",
   "version": "3.7.4"
  }
 },
 "nbformat": 4,
 "nbformat_minor": 2
}
